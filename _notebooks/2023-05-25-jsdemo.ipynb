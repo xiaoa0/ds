{
 "cells": [
  {
   "attachments": {},
   "cell_type": "markdown",
   "metadata": {},
   "source": [
    "# Javascript demonstration"
   ]
  },
  {
   "cell_type": "code",
   "execution_count": null,
   "metadata": {},
   "outputs": [],
   "source": [
    "!pip install papaparse;\n",
    "!pip install jquery;"
   ]
  },
  {
   "cell_type": "code",
   "execution_count": null,
   "metadata": {},
   "outputs": [],
   "source": [
    "%%javascript\n",
    "// Import papaparse library\n",
    "require.config({\n",
    "    paths: {\n",
    "        PapaParse: 'https://cdn.jsdelivr.net/npm/papaparse@5.3.0',\n",
    "        jquery: 'https://code.jquery.com/jquery-3.6.0.min',\n",
    "    }\n",
    "});\n",
    "\n",
    "// Create a function to handle the CSV data\n",
    "window.handleCSVData = function (csvData) {\n",
    "    // Display the data in a table\n",
    "    var tableHTML = '<table>';\n",
    "    for (var i = 0; i < csvData.length; i++) {\n",
    "        tableHTML += '<tr>';\n",
    "        for (var j = 0; j < csvData[i].length; j++) {\n",
    "            tableHTML += '<td>' + csvData[i][j] + '</td>';\n",
    "        }\n",
    "        tableHTML += '</tr>';\n",
    "    }\n",
    "    tableHTML += '</table>';\n",
    "\n",
    "    $('#csvTable').html(tableHTML);\n",
    "};\n",
    "\n",
    "// Load the CSV file\n",
    "window.loadCSVFile = function (file) {\n",
    "    PapaParse.parse(file, {\n",
    "        complete: function (results) {\n",
    "            // Call the handleCSVData function to display the data\n",
    "            window.handleCSVData(results.data);\n",
    "        }\n",
    "    });\n",
    "};"
   ]
  },
  {
   "cell_type": "code",
   "execution_count": null,
   "metadata": {},
   "outputs": [],
   "source": [
    "<div id=\"csvTable\"></div>"
   ]
  },
  {
   "cell_type": "code",
   "execution_count": null,
   "metadata": {},
   "outputs": [],
   "source": [
    "%%javascript\n",
    "// Replace 'your_csv_file.csv' with the path to your actual CSV file\n",
    "var fileURL = 'your_csv_file.csv';\n",
    "window.loadCSVFile(fileURL);"
   ]
  }
 ],
 "metadata": {
  "kernelspec": {
   "display_name": "JavaScript (Node.js)",
   "language": "javascript",
   "name": "javascript"
  },
  "language_info": {
   "file_extension": ".js",
   "mimetype": "application/javascript",
   "name": "javascript",
   "version": "10.13.0"
  },
  "orig_nbformat": 4
 },
 "nbformat": 4,
 "nbformat_minor": 2
}
