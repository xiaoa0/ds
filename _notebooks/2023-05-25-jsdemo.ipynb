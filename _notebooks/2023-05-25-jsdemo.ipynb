{
 "cells": [
  {
   "attachments": {},
   "cell_type": "markdown",
   "metadata": {},
   "source": [
    "# Javascript demonstration"
   ]
  },
  {
   "cell_type": "code",
   "execution_count": 5,
   "metadata": {},
   "outputs": [
    {
     "data": {
      "text/plain": [
       "{ init: [Function: init] }"
      ]
     },
     "execution_count": 5,
     "metadata": {},
     "output_type": "execute_result"
    }
   ],
   "source": [
    "var CsvToHtmlTable = CsvToHtmlTable || {};\n",
    "\n",
    "CsvToHtmlTable = {\n",
    "    init: function (options) {\n",
    "        options = options || {};\n",
    "        var csv_path = options.csv_path || \"https://github.com/xiaoa0/ds/blob/master/_notebooks/data/train_40k.csv\";\n",
    "        var el = options.element || \"table-container\";\n",
    "        var allow_download = options.allow_download || false;\n",
    "        var csv_options = options.csv_options || {};\n",
    "        var datatables_options = options.datatables_options || {};\n",
    "        var custom_formatting = options.custom_formatting || [];\n",
    "        var customTemplates = {};\n",
    "        $.each(custom_formatting, function (i, v) {\n",
    "            var colIdx = v[0];\n",
    "            var func = v[1];\n",
    "            customTemplates[colIdx] = func;\n",
    "        });\n",
    "\n",
    "        var $table = $(\"<table class='table table-striped table-condensed' id='\" + el + \"-table'></table>\");\n",
    "        var $containerElement = $(\"#\" + el);\n",
    "        $containerElement.empty().append($table);\n",
    "\n",
    "        $.when($.get(csv_path)).then(\n",
    "            function (data) {\n",
    "                var csvData = $.csv.toArrays(data, csv_options);\n",
    "                var $tableHead = $(\"<thead></thead>\");\n",
    "                var csvHeaderRow = csvData[0];\n",
    "                var $tableHeadRow = $(\"<tr></tr>\");\n",
    "                for (var headerIdx = 0; headerIdx < csvHeaderRow.length; headerIdx++) {\n",
    "                    $tableHeadRow.append($(\"<th></th>\").text(csvHeaderRow[headerIdx]));\n",
    "                }\n",
    "                $tableHead.append($tableHeadRow);\n",
    "\n",
    "                $table.append($tableHead);\n",
    "                var $tableBody = $(\"<tbody></tbody>\");\n",
    "\n",
    "                for (var rowIdx = 1; rowIdx < csvData.length; rowIdx++) {\n",
    "                    var $tableBodyRow = $(\"<tr></tr>\");\n",
    "                    for (var colIdx = 0; colIdx < csvData[rowIdx].length; colIdx++) {\n",
    "                        var $tableBodyRowTd = $(\"<td></td>\");\n",
    "                        var cellTemplateFunc = customTemplates[colIdx];\n",
    "                        if (cellTemplateFunc) {\n",
    "                            $tableBodyRowTd.html(cellTemplateFunc(csvData[rowIdx][colIdx]));\n",
    "                        } else {\n",
    "                            $tableBodyRowTd.text(csvData[rowIdx][colIdx]);\n",
    "                        }\n",
    "                        $tableBodyRow.append($tableBodyRowTd);\n",
    "                        $tableBody.append($tableBodyRow);\n",
    "                    }\n",
    "                }\n",
    "                $table.append($tableBody);\n",
    "\n",
    "                $table.DataTable(datatables_options);\n",
    "\n",
    "                if (allow_download) {\n",
    "                    $containerElement.append(\"<p><a class='btn btn-info' href='\" + csv_path + \"'><i class='glyphicon glyphicon-download'></i> Download as CSV</a></p>\");\n",
    "                }\n",
    "            });\n",
    "    }\n",
    "};"
   ]
  },
  {
   "cell_type": "code",
   "execution_count": 4,
   "metadata": {},
   "outputs": [
    {
     "ename": "SyntaxError",
     "evalue": "Identifier 'xhr' has already been declared",
     "output_type": "error",
     "traceback": [
      "evalmachine.<anonymous>:1",
      "// XMLHttpRequest example",
      "^",
      "",
      "SyntaxError: Identifier 'xhr' has already been declared",
      "    at evalmachine.<anonymous>:1:1",
      "    at Script.runInThisContext (vm.js:96:20)",
      "    at Object.runInThisContext (vm.js:303:38)",
      "    at run ([eval]:1020:15)",
      "    at onRunRequest ([eval]:864:18)",
      "    at onMessage ([eval]:828:13)",
      "    at process.emit (events.js:182:13)",
      "    at emit (internal/child_process.js:812:12)",
      "    at process._tickCallback (internal/process/next_tick.js:63:19)"
     ]
    }
   ],
   "source": [
    "// XMLHttpRequest example\n",
    "const xhr = new XMLHttpRequest();\n",
    "xhr.open('https://github.com/xiaoa0/ds/blob/master/_notebooks/data/train_40k.csv', true);\n",
    "xhr.onreadystatechange = function () {\n",
    "  if (xhr.readyState === 4 && xhr.status === 200) {\n",
    "    const data = xhr.responseText;\n",
    "    // Process the CSV data\n",
    "    // ...\n",
    "  }\n",
    "};\n",
    "xhr.send();\n"
   ]
  },
  {
   "cell_type": "code",
   "execution_count": 7,
   "metadata": {},
   "outputs": [
    {
     "ename": "SyntaxError",
     "evalue": "Unexpected token %",
     "output_type": "error",
     "traceback": [
      "evalmachine.<anonymous>:1",
      "%%js",
      "^",
      "",
      "SyntaxError: Unexpected token %",
      "    at new Script (vm.js:79:7)",
      "    at createScript (vm.js:251:10)",
      "    at Object.runInThisContext (vm.js:303:10)",
      "    at run ([eval]:1020:15)",
      "    at onRunRequest ([eval]:864:18)",
      "    at onMessage ([eval]:828:13)",
      "    at process.emit (events.js:182:13)",
      "    at emit (internal/child_process.js:812:12)",
      "    at process._tickCallback (internal/process/next_tick.js:63:19)"
     ]
    }
   ],
   "source": [
    "%%js\n",
    "\n",
    "// Fetch API example\n",
    "fetch('https://raw.githubusercontent.com/xiaoa0/ds/master/_notebooks/data/train_40k.csv')\n",
    "  .then(response => response.text())\n",
    "  .then(data => {\n",
    "    // Process the CSV data\n",
    "    const rows = data.split('\\n');\n",
    "    const table = document.createElement('table');\n",
    "    \n",
    "    rows.forEach(row => {\n",
    "      const cells = row.split(',');\n",
    "      const tableRow = document.createElement('tr');\n",
    "      \n",
    "      cells.forEach(cell => {\n",
    "        const tableCell = document.createElement('td');\n",
    "        tableCell.textContent = cell;\n",
    "        tableRow.appendChild(tableCell);\n",
    "      });\n",
    "      \n",
    "      table.appendChild(tableRow);\n",
    "    });\n",
    "    \n",
    "    document.body.appendChild(table);\n",
    "  })\n",
    "  .catch(error => console.log(error));\n"
   ]
  },
  {
   "cell_type": "code",
   "execution_count": null,
   "metadata": {},
   "outputs": [],
   "source": [
    "%%html\n",
    "<head>\n",
    "    <!-- load jQuery and DataTables scripts -->\n",
    "    <link rel=\"stylesheet\" type=\"text/css\" href=\"https://cdn.datatables.net/1.13.4/css/jquery.dataTables.min.css\">\n",
    "    <script type=\"text/javascript\" language=\"javascript\" src=\"https://code.jquery.com/jquery-3.6.0.min.js\"></script>\n",
    "    <script>var define = null;</script>\n",
    "    <script type=\"text/javascript\" language=\"javascript\" src=\"https://cdn.datatables.net/1.13.4/js/jquery.dataTables.min.js\"></script>\n",
    "</head>\n",
    "<table id=\"flaskTable\" class=\"table\" style=\"width:100%\">\n",
    "    <thead id=\"flaskHead\">\n",
    "        <tr>\n",
    "            <th>ID</th>\n",
    "            <th>Name</th>\n",
    "            <th>DOB</th>\n",
    "            <th>Age</th>\n",
    "        </tr>\n",
    "    </thead>\n",
    "    <tbody id=\"flaskBody\"></tbody>\n",
    "</table>\n",
    "\n",
    "<script>\n",
    "  $(document).ready(function() {\n",
    "    fetch('https://flask.nighthawkcodingsociety.com/api/users/', { mode: 'cors' })\n",
    "    .then(response => {\n",
    "      if (!response.ok) {\n",
    "        throw new Error('API response failed');\n",
    "      }\n",
    "      return response.json();\n",
    "    })\n",
    "    .then(data => {\n",
    "      for (const row of data) {\n",
    "        // BUG warning/resolution - DataTable requires row to be single append\n",
    "        $('#flaskBody').append('<tr><td>' + \n",
    "            row.id + '</td><td>' + \n",
    "            row.name + '</td><td>' + \n",
    "            row.dob + '</td><td>' + \n",
    "            row.age + '</td></tr>');\n",
    "      }\n",
    "      // BUG warning - Jupyter does not show Datatable controls, works on deployed GitHub pages\n",
    "      $(\"#flaskTable\").DataTable();\n",
    "    })\n",
    "    .catch(error => {\n",
    "      console.error('Error:', error);\n",
    "    });\n",
    "  });\n",
    "</script>"
   ]
  }
 ],
 "metadata": {
  "kernelspec": {
   "display_name": "JavaScript (Node.js)",
   "language": "javascript",
   "name": "javascript"
  },
  "language_info": {
   "file_extension": ".js",
   "mimetype": "application/javascript",
   "name": "javascript",
   "version": "10.13.0"
  },
  "orig_nbformat": 4
 },
 "nbformat": 4,
 "nbformat_minor": 2
}
