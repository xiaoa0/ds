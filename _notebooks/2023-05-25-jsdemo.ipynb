{
 "cells": [
  {
   "attachments": {},
   "cell_type": "markdown",
   "metadata": {},
   "source": [
    "# Javascript demonstration"
   ]
  },
  {
   "cell_type": "code",
   "execution_count": 3,
   "metadata": {},
   "outputs": [
    {
     "data": {
      "text/plain": [
       "{ init: [Function: init] }"
      ]
     },
     "execution_count": 3,
     "metadata": {},
     "output_type": "execute_result"
    }
   ],
   "source": [
    "var CsvToHtmlTable = CsvToHtmlTable || {};\n",
    "\n",
    "CsvToHtmlTable = {\n",
    "    init: function (options) {\n",
    "        options = options || {};\n",
    "        var csv_path = options.csv_path || \"\";\n",
    "        var el = options.element || \"table-container\";\n",
    "        var allow_download = options.allow_download || false;\n",
    "        var csv_options = options.csv_options || {};\n",
    "        var datatables_options = options.datatables_options || {};\n",
    "        var custom_formatting = options.custom_formatting || [];\n",
    "        var customTemplates = {};\n",
    "        $.each(custom_formatting, function (i, v) {\n",
    "            var colIdx = v[0];\n",
    "            var func = v[1];\n",
    "            customTemplates[colIdx] = func;\n",
    "        });\n",
    "\n",
    "        var $table = $(\"<table class='table table-striped table-condensed' id='\" + el + \"-table'></table>\");\n",
    "        var $containerElement = $(\"#\" + el);\n",
    "        $containerElement.empty().append($table);\n",
    "\n",
    "        $.when($.get(csv_path)).then(\n",
    "            function (data) {\n",
    "                var csvData = $.csv.toArrays(data, csv_options);\n",
    "                var $tableHead = $(\"<thead></thead>\");\n",
    "                var csvHeaderRow = csvData[0];\n",
    "                var $tableHeadRow = $(\"<tr></tr>\");\n",
    "                for (var headerIdx = 0; headerIdx < csvHeaderRow.length; headerIdx++) {\n",
    "                    $tableHeadRow.append($(\"<th></th>\").text(csvHeaderRow[headerIdx]));\n",
    "                }\n",
    "                $tableHead.append($tableHeadRow);\n",
    "\n",
    "                $table.append($tableHead);\n",
    "                var $tableBody = $(\"<tbody></tbody>\");\n",
    "\n",
    "                for (var rowIdx = 1; rowIdx < csvData.length; rowIdx++) {\n",
    "                    var $tableBodyRow = $(\"<tr></tr>\");\n",
    "                    for (var colIdx = 0; colIdx < csvData[rowIdx].length; colIdx++) {\n",
    "                        var $tableBodyRowTd = $(\"<td></td>\");\n",
    "                        var cellTemplateFunc = customTemplates[colIdx];\n",
    "                        if (cellTemplateFunc) {\n",
    "                            $tableBodyRowTd.html(cellTemplateFunc(csvData[rowIdx][colIdx]));\n",
    "                        } else {\n",
    "                            $tableBodyRowTd.text(csvData[rowIdx][colIdx]);\n",
    "                        }\n",
    "                        $tableBodyRow.append($tableBodyRowTd);\n",
    "                        $tableBody.append($tableBodyRow);\n",
    "                    }\n",
    "                }\n",
    "                $table.append($tableBody);\n",
    "\n",
    "                $table.DataTable(datatables_options);\n",
    "\n",
    "                if (allow_download) {\n",
    "                    $containerElement.append(\"<p><a class='btn btn-info' href='\" + csv_path + \"'><i class='glyphicon glyphicon-download'></i> Download as CSV</a></p>\");\n",
    "                }\n",
    "            });\n",
    "    }\n",
    "};"
   ]
  }
 ],
 "metadata": {
  "kernelspec": {
   "display_name": "JavaScript (Node.js)",
   "language": "javascript",
   "name": "javascript"
  },
  "language_info": {
   "file_extension": ".js",
   "mimetype": "application/javascript",
   "name": "javascript",
   "version": "10.13.0"
  },
  "orig_nbformat": 4
 },
 "nbformat": 4,
 "nbformat_minor": 2
}
